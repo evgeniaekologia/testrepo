{
 "cells": [
  {
   "cell_type": "markdown",
   "id": "bb924185-b60b-4410-9b15-88986542ccc3",
   "metadata": {
    "tags": []
   },
   "source": [
    "# Data Science Tools and Ecosystem"
   ]
  },
  {
   "cell_type": "markdown",
   "id": "aa761c04-9173-4667-becb-058bef807762",
   "metadata": {
    "tags": []
   },
   "source": [
    "In this notebook, Data Science Tools and Ecosystem are summarized."
   ]
  },
  {
   "cell_type": "markdown",
   "id": "e07c734f-9870-4c71-8a2f-baac034cbaf3",
   "metadata": {},
   "source": [
    "**Objectives:**"
   ]
  },
  {
   "cell_type": "markdown",
   "id": "baf3fa48-711b-4369-98c7-0dd04af04dcf",
   "metadata": {},
   "source": [
    "List popular languages for Data Science\n",
    "- Piton\n",
    "- Java\n",
    "- R"
   ]
  },
  {
   "cell_type": "markdown",
   "id": "e5b1bff1-9b7f-4111-98eb-60ceaa95d01e",
   "metadata": {},
   "source": [
    "Some of the popular languages that Data Scientists use are:"
   ]
  },
  {
   "cell_type": "markdown",
   "id": "8689a884-bc91-4928-baa8-488f6cc292e7",
   "metadata": {
    "tags": []
   },
   "source": [
    "1. Piton\n",
    "2. Java\n",
    "3. R"
   ]
  },
  {
   "cell_type": "markdown",
   "id": "bf7d472a-87be-4dba-b572-9011478baf4e",
   "metadata": {},
   "source": [
    "Some of the commonly used libraries used by Data Scientists include:"
   ]
  },
  {
   "cell_type": "markdown",
   "id": "78dd99a5-dc06-479c-844d-a1d7bc8fb145",
   "metadata": {},
   "source": [
    "1. Pandas\n",
    "2. SciPy\n",
    "3. Plotly"
   ]
  },
  {
   "cell_type": "markdown",
   "id": "326d93d1-9f46-4564-9823-431307800932",
   "metadata": {},
   "source": [
    "| Data Science Tools |\n",
    "| ------------------|\n",
    "| Jupyter Notebook |\n",
    "| RStudio |\n",
    "| VS Code |\n"
   ]
  },
  {
   "cell_type": "markdown",
   "id": "b23e46dd-a8e1-4288-919f-7fe1b0d3aaf2",
   "metadata": {},
   "source": [
    "### Below are a few examples of evaluating arithmetic expressions in Python"
   ]
  },
  {
   "cell_type": "markdown",
   "id": "acc5a8d8-ab93-43e8-beae-10f46e8fc549",
   "metadata": {},
   "source": [
    "This a simple arithmetic expression to mutiply then add integers"
   ]
  },
  {
   "cell_type": "code",
   "execution_count": 11,
   "id": "0f77d612-e49f-4cf2-a2b3-5a9078f7f9d6",
   "metadata": {
    "tags": []
   },
   "outputs": [
    {
     "data": {
      "text/plain": [
       "17"
      ]
     },
     "execution_count": 11,
     "metadata": {},
     "output_type": "execute_result"
    }
   ],
   "source": [
    "(3*4)+5"
   ]
  },
  {
   "cell_type": "markdown",
   "id": "02977c93-f76e-42eb-b88a-855603f1368f",
   "metadata": {},
   "source": [
    "This will convert 200 minutes to hours by diving by 60 "
   ]
  },
  {
   "cell_type": "code",
   "execution_count": 12,
   "id": "a5b93762-7c42-4b50-b584-ff37d8509f1e",
   "metadata": {
    "tags": []
   },
   "outputs": [
    {
     "name": "stdout",
     "output_type": "stream",
     "text": [
      "3.3333333333333335\n"
     ]
    }
   ],
   "source": [
    "minutes = 200\n",
    "hours = minutes / 60\n",
    "print(hours)"
   ]
  },
  {
   "cell_type": "markdown",
   "id": "7b160ab6-3f84-47fa-b0b5-29165c8b3470",
   "metadata": {},
   "source": [
    "## Author\n",
    "Yevheniia Volovatova"
   ]
  },
  {
   "cell_type": "code",
   "execution_count": null,
   "id": "04d2424a-8914-45af-aaa7-1a5783e60e75",
   "metadata": {},
   "outputs": [],
   "source": []
  }
 ],
 "metadata": {
  "kernelspec": {
   "display_name": "Python",
   "language": "python",
   "name": "conda-env-python-py"
  },
  "language_info": {
   "codemirror_mode": {
    "name": "ipython",
    "version": 3
   },
   "file_extension": ".py",
   "mimetype": "text/x-python",
   "name": "python",
   "nbconvert_exporter": "python",
   "pygments_lexer": "ipython3",
   "version": "3.7.12"
  }
 },
 "nbformat": 4,
 "nbformat_minor": 5
}
